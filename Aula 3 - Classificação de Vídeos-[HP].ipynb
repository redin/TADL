{
 "cells": [
  {
   "cell_type": "code",
   "execution_count": null,
   "metadata": {},
   "outputs": [],
   "source": [
    "%matplotlib inline"
   ]
  },
  {
   "cell_type": "markdown",
   "metadata": {},
   "source": [
    "### Atenção: Rode esta linha apenas se estiver usando o Google Colab"
   ]
  },
  {
   "cell_type": "code",
   "execution_count": null,
   "metadata": {},
   "outputs": [],
   "source": [
    "# http://pytorch.org/\n",
    "from os.path import exists\n",
    "from wheel.pep425tags import get_abbr_impl, get_impl_ver, get_abi_tag\n",
    "platform = '{}{}-{}'.format(get_abbr_impl(), get_impl_ver(), get_abi_tag())\n",
    "cuda_output = !ldconfig -p|grep cudart.so|sed -e 's/.*\\.\\([0-9]*\\)\\.\\([0-9]*\\)$/cu\\1\\2/'\n",
    "accelerator = cuda_output[0] if exists('/dev/nvidia0') else 'cpu'\n",
    "\n",
    "!pip install -q http://download.pytorch.org/whl/{accelerator}/torch-0.4.1-{platform}-linux_x86_64.whl torchvision\n",
    "import torch"
   ]
  },
  {
   "cell_type": "code",
   "execution_count": 1,
   "metadata": {},
   "outputs": [],
   "source": [
    "import torch\n",
    "from torch import nn\n",
    "from torch import optim\n",
    "import torchvision\n",
    "from matplotlib import pyplot as plt\n",
    "from torchvision import transforms\n",
    "from torchvision import datasets\n",
    "import numpy as np"
   ]
  },
  {
   "cell_type": "markdown",
   "metadata": {},
   "source": [
    "### O código da célula abaixo contém funções para efetuar a carga dos dados, treinamento teste dos modelos"
   ]
  },
  {
   "cell_type": "code",
   "execution_count": 2,
   "metadata": {},
   "outputs": [
    {
     "name": "stdout",
     "output_type": "stream",
     "text": [
      "--2019-01-24 01:40:59--  https://s3-us-west-2.amazonaws.com/wehrmann/videodata.zip\n",
      "Resolving s3-us-west-2.amazonaws.com (s3-us-west-2.amazonaws.com)... 52.218.205.0\n",
      "Connecting to s3-us-west-2.amazonaws.com (s3-us-west-2.amazonaws.com)|52.218.205.0|:443... connected.\n",
      "HTTP request sent, awaiting response... 200 OK\n",
      "Length: 21784221 (21M) [application/zip]\n",
      "Saving to: ‘videodata.zip’\n",
      "\n",
      "videodata.zip       100%[===================>]  20,77M  61,4KB/s    in 6m 19s  \n",
      "\n",
      "2019-01-24 01:47:19 (56,2 KB/s) - ‘videodata.zip’ saved [21784221/21784221]\n",
      "\n",
      "Archive:  videodata.zip\n",
      "  inflating: test_videos.npy         \n",
      "  inflating: test_labels.npy         \n",
      "  inflating: train_labels.npy        \n",
      "  inflating: train_videos.npy        \n"
     ]
    }
   ],
   "source": [
    "# Download do dataset\n",
    "import os \n",
    "if not os.path.exists('videodata.zip'):\n",
    "    !wget https://s3-us-west-2.amazonaws.com/wehrmann/videodata.zip\n",
    "    !unzip videodata.zip"
   ]
  },
  {
   "cell_type": "code",
   "execution_count": 3,
   "metadata": {},
   "outputs": [],
   "source": [
    "class VideoLoader(torch.utils.data.Dataset):\n",
    "    \n",
    "    def __init__(self, path='./', data_split='train',):\n",
    "        super(VideoLoader, self).__init__()\n",
    "        self.data = np.load('{}/{}_videos.npy'.format(path, data_split))\n",
    "        self.labels = np.load('{}/{}_labels.npy'.format(path, data_split))\n",
    "        \n",
    "        self.transform = transforms.Compose([\n",
    "            transforms.ToTensor(),\n",
    "            transforms.Normalize((0.1307,), (0.3081,))\n",
    "        ])\n",
    "                \n",
    "        \n",
    "    def __getitem__(self, index):\n",
    "        video = self.data[index].transpose([0, 2, 3, 1])\n",
    "        x = [self.transform(frame) for frame in video]\n",
    "        x = torch.stack(x, 0)\n",
    "        \n",
    "        label = self.labels[index]\n",
    "        return x, label\n",
    "    \n",
    "    def __len__(self):\n",
    "        return len(self.data)\n",
    "            \n",
    "            \n",
    "        "
   ]
  },
  {
   "cell_type": "code",
   "execution_count": 4,
   "metadata": {},
   "outputs": [],
   "source": [
    "def get_loaders(batch_size):\n",
    "    transform = transforms.Compose([\n",
    "        transforms.ToTensor(),\n",
    "        transforms.Normalize((0.1307,), (0.3081,))\n",
    "    ])\n",
    "\n",
    "    train_loader = torch.utils.data.DataLoader(\n",
    "        dataset=VideoLoader(data_split='train'),\n",
    "        batch_size=batch_size, \n",
    "        shuffle=True\n",
    "    )\n",
    "\n",
    "    test_loader = torch.utils.data.DataLoader(\n",
    "        dataset=VideoLoader(data_split='test'),\n",
    "        batch_size=batch_size, \n",
    "        shuffle=True\n",
    "    )\n",
    "    return train_loader, test_loader\n",
    "\n",
    "def train_epoch(\n",
    "        model, \n",
    "        device, \n",
    "        train_loader, \n",
    "        optimizer, \n",
    "        criterion, \n",
    "        epoch, \n",
    "        log_interval\n",
    "    ):\n",
    "    model.train()\n",
    "    history = []\n",
    "    for batch_idx, (data, target) in enumerate(train_loader):\n",
    "        data, target = data.to(device), target.to(device)\n",
    "        optimizer.zero_grad()\n",
    "        output = model(data)\n",
    "        loss = criterion(output, target)\n",
    "        loss.backward()\n",
    "        optimizer.step()\n",
    "        if batch_idx % log_interval == 0:\n",
    "            print('Train Epoch: {} [{}/{} ({:.0f}%)]\\tLoss: {:.6f}'.format(\n",
    "                epoch, batch_idx * len(data), len(train_loader.dataset),\n",
    "                100. * batch_idx / len(train_loader), loss.item()))\n",
    "\n",
    "\n",
    "def test(\n",
    "        model, \n",
    "        device, \n",
    "        criterion, \n",
    "        test_loader\n",
    "    ):\n",
    "    model.eval()\n",
    "    test_loss = 0\n",
    "    correct = 0\n",
    "    with torch.no_grad():\n",
    "        for data, target in test_loader:\n",
    "            data, target = data.to(device), target.to(device)\n",
    "            output = model(data)\n",
    "            test_loss += criterion(output, target).item() # sum up batch loss\n",
    "            pred = output.max(1, keepdim=True)[1] # get the index of the max log-probability\n",
    "            correct += pred.eq(target.view_as(pred)).sum().item()\n",
    "\n",
    "    test_loss /= len(test_loader.dataset)\n",
    "    accuracy = 100. * correct / len(test_loader.dataset)\n",
    "    print('Test set: Average loss: {:.4f}, Accuracy: {}/{} ({:.2f}%)\\n'.format(\n",
    "        test_loss, correct, len(test_loader.dataset),\n",
    "        accuracy))\n",
    "    return accuracy\n",
    "\n",
    "\n",
    "def train(\n",
    "        model,\n",
    "        train_loader,\n",
    "        test_loader,\n",
    "        device,\n",
    "        lr,\n",
    "        nb_epochs=3,\n",
    "        log_interval=100,\n",
    "    ):\n",
    "    optimizer = optim.Adam(model.parameters(), lr=lr)\n",
    "    criterion = nn.CrossEntropyLoss().to(device)\n",
    "\n",
    "    for epoch in range(1, nb_epochs + 1):\n",
    "        print('\\n* * * Training * * *')\n",
    "        train_epoch(\n",
    "            model=model, \n",
    "            device=device, \n",
    "            train_loader=train_loader, \n",
    "            optimizer=optimizer, \n",
    "            criterion=criterion, \n",
    "            epoch=epoch, \n",
    "            log_interval=log_interval\n",
    "        )\n",
    "        print('\\n* * * Evaluating * * *')\n",
    "        acc = test(model, device, criterion, test_loader)        \n",
    "    \n",
    "    return acc\n",
    "\n",
    "def check_input(model, device):\n",
    "    dummy_data = torch.zeros(5, 3, 1, 28, 28).to(device)\n",
    "    dummy_pred = model(dummy_data)        \n",
    "    assert dummy_pred.shape == (5, 2), '\\nOutput expected: (batch_size, 10) \\nOutput found   : {}'.format(dummy_pred.shape)\n",
    "    print('Passed')\n",
    "    return dummy_pred\n",
    "\n",
    "def plot_instances(videos, labels, n_instances=5, n_frames=3):\n",
    "    fig, axes = plt.subplots(n_instances, n_frames)\n",
    "    for i, axs in enumerate(axes):\n",
    "        for j, ax in enumerate(axs):\n",
    "            ax.imshow(videos[i,j].squeeze(), cmap='gray')            \n",
    "            ax.set_xticks([])\n",
    "            ax.set_yticks([])\n",
    "        ax.text(35, 15, 'Label: {} - {}'.format(labels[i], label_dict[labels[i]]), fontsize=14)\n",
    "\n",
    "label_dict = ['Decrescente', 'Crescente']        "
   ]
  },
  {
   "cell_type": "markdown",
   "metadata": {},
   "source": [
    "### Hyper-parâmetros que você pode definir"
   ]
  },
  {
   "cell_type": "code",
   "execution_count": 6,
   "metadata": {},
   "outputs": [],
   "source": [
    "batch_size = 16\n",
    "device_name = 'cpu'\n",
    "nb_epochs = 3\n",
    "log_interval = 500\n",
    "lr = 2e-4"
   ]
  },
  {
   "cell_type": "code",
   "execution_count": 7,
   "metadata": {},
   "outputs": [],
   "source": [
    "device = torch.device(device_name)"
   ]
  },
  {
   "cell_type": "markdown",
   "metadata": {},
   "source": [
    "### Conferência dos dados"
   ]
  },
  {
   "cell_type": "code",
   "execution_count": 8,
   "metadata": {},
   "outputs": [],
   "source": [
    "train_loader, test_loader = get_loaders(batch_size=batch_size)"
   ]
  },
  {
   "cell_type": "code",
   "execution_count": 9,
   "metadata": {},
   "outputs": [
    {
     "name": "stdout",
     "output_type": "stream",
     "text": [
      "Train size:  (40000, 3, 1, 28, 28) (40000,)\n",
      "Test size :  (4000, 3, 1, 28, 28) (4000,)\n"
     ]
    }
   ],
   "source": [
    "print(\n",
    "    'Train size: ', \n",
    "    train_loader.dataset.data.shape, \n",
    "    train_loader.dataset.labels.shape\n",
    ")\n",
    "print(\n",
    "    'Test size : ', \n",
    "    test_loader.dataset.data.shape, \n",
    "    test_loader.dataset.labels.shape\n",
    ")"
   ]
  },
  {
   "cell_type": "code",
   "execution_count": 10,
   "metadata": {},
   "outputs": [
    {
     "name": "stdout",
     "output_type": "stream",
     "text": [
      "Instance Example:  torch.Size([16, 3, 1, 28, 28]) torch.Size([16])\n"
     ]
    }
   ],
   "source": [
    "videos, labels = next(iter(train_loader))\n",
    "print('Instance Example: ', videos.shape, labels.shape)"
   ]
  },
  {
   "cell_type": "code",
   "execution_count": 11,
   "metadata": {},
   "outputs": [
    {
     "data": {
      "image/png": "[encoded data removed]",
      "text/plain": [
       "<Figure size 432x288 with 15 Axes>"
      ]
     },
     "metadata": {},
     "output_type": "display_data"
    }
   ],
   "source": [
    "plot_instances(videos, labels)"
   ]
  },
  {
   "cell_type": "markdown",
   "metadata": {},
   "source": [
    "## Seu trabalho começa aqui:"
   ]
  },
  {
   "cell_type": "markdown",
   "metadata": {},
   "source": [
    "## 1. Crie uma rede neural, usando `nn.LSTM()` ou `nn.GRU()` para processar a dimensão temporal. \n",
    "\n",
    "\n",
    "* Utilize a rede DigitsConvNet para processar cada um dos frames. \n",
    "* Utilize uma rede recorrente da sua escolha para processar a dimensão temporal. "
   ]
  },
  {
   "cell_type": "code",
   "execution_count": 13,
   "metadata": {},
   "outputs": [],
   "source": [
    "class DigitsConvNet(nn.Module):\n",
    "    def __init__(self):\n",
    "        super(DigitsConvNet, self).__init__()\n",
    "        self.conv_1 = nn.Conv2d(in_channels=1, out_channels=32, kernel_size=3, padding=1)\n",
    "        self.conv_2 = nn.Conv2d(in_channels=32, out_channels=64, kernel_size=3, padding=1)\n",
    "        self.fc = nn.Linear(in_features=3136, out_features=10)\n",
    "        \n",
    "        self.pool = nn.MaxPool2d(kernel_size=2)\n",
    "        self.relu = nn.ReLU(inplace=True)\n",
    "        \n",
    "    def forward(self, x):\n",
    "        x = self.conv_1(x)\n",
    "        x = self.relu(x)\n",
    "        x = self.pool(x)\n",
    "        x = self.conv_2(x)\n",
    "        x = self.relu(x)\n",
    "        x = self.pool(x)\n",
    "        x = x.view(x.shape[0], 64*7*7) # Ou x = x.view(x.shape[0], -1)\n",
    "        #out = self.fc(x)\n",
    "        return x"
   ]
  },
  {
   "cell_type": "code",
   "execution_count": 64,
   "metadata": {},
   "outputs": [],
   "source": [
    "class VideoLSTM(nn.Module):\n",
    "    def __init__(self, rnn_units = 64):\n",
    "        super(VideoLSTM, self).__init__()\n",
    "        \n",
    "        # Rede para processamento de cada frame\n",
    "        self.digitscnn = DigitsConvNet()\n",
    "        self.rnn_units = rnn_units\n",
    "        self.rnn = nn.LSTMCell(input_size=3136, hidden_size=self.rnn_units)\n",
    "        self.fc = nn.Linear(self.rnn_units,2)\n",
    "        \n",
    "    def forward(self, x):\n",
    "        batch, time_steps, channels, h,w = x.shape\n",
    "        x_flat = x.view(batch*time_steps, channels, h,w)\n",
    "        features = self.digitscnn(x_flat)\n",
    "        features = features.view(batch, time_steps, -1)\n",
    "        \n",
    "        hidden_act = torch.zeros(batch, self.rnn_units)\n",
    "        cell_act = torch.zeros(batch, self.rnn_units)\n",
    "        features = features.squeeze(1)\n",
    "        for t in range(time_steps):\n",
    "            xt = features[:,t,:]\n",
    "            (hidden_act, cell_act) = self.rnn(xt, (hidden_act, cell_act))\n",
    "        out = self.fc(hidden_act)\n",
    "        return out"
   ]
  },
  {
   "cell_type": "code",
   "execution_count": 65,
   "metadata": {
    "scrolled": false
   },
   "outputs": [
    {
     "name": "stdout",
     "output_type": "stream",
     "text": [
      "VideoLSTM(\n",
      "  (digitscnn): DigitsConvNet(\n",
      "    (conv_1): Conv2d(1, 32, kernel_size=(3, 3), stride=(1, 1), padding=(1, 1))\n",
      "    (conv_2): Conv2d(32, 64, kernel_size=(3, 3), stride=(1, 1), padding=(1, 1))\n",
      "    (fc): Linear(in_features=3136, out_features=10, bias=True)\n",
      "    (pool): MaxPool2d(kernel_size=2, stride=2, padding=0, dilation=1, ceil_mode=False)\n",
      "    (relu): ReLU(inplace)\n",
      "  )\n",
      "  (rnn): LSTMCell(3136, 64)\n",
      "  (fc): Linear(in_features=64, out_features=2, bias=True)\n",
      ")\n"
     ]
    }
   ],
   "source": [
    "model = VideoLSTM().to(device)\n",
    "print(model)"
   ]
  },
  {
   "cell_type": "code",
   "execution_count": 66,
   "metadata": {},
   "outputs": [
    {
     "name": "stdout",
     "output_type": "stream",
     "text": [
      "Passed\n"
     ]
    }
   ],
   "source": [
    "dummy_pred = check_input(model, device)"
   ]
  },
  {
   "cell_type": "code",
   "execution_count": 67,
   "metadata": {},
   "outputs": [
    {
     "name": "stdout",
     "output_type": "stream",
     "text": [
      "\n",
      "* * * Training * * *\n",
      "Train Epoch: 1 [0/40000 (0%)]\tLoss: 0.673219\n",
      "Train Epoch: 1 [8000/40000 (20%)]\tLoss: 0.249801\n",
      "Train Epoch: 1 [16000/40000 (40%)]\tLoss: 0.038683\n",
      "Train Epoch: 1 [24000/40000 (60%)]\tLoss: 0.129727\n",
      "Train Epoch: 1 [32000/40000 (80%)]\tLoss: 0.011775\n",
      "\n",
      "* * * Evaluating * * *\n",
      "Test set: Average loss: 0.0011, Accuracy: 3982/4000 (99.55%)\n",
      "\n",
      "\n",
      "* * * Training * * *\n",
      "Train Epoch: 2 [0/40000 (0%)]\tLoss: 0.009300\n",
      "Train Epoch: 2 [8000/40000 (20%)]\tLoss: 0.005046\n",
      "Train Epoch: 2 [16000/40000 (40%)]\tLoss: 0.008069\n",
      "Train Epoch: 2 [24000/40000 (60%)]\tLoss: 0.002626\n",
      "Train Epoch: 2 [32000/40000 (80%)]\tLoss: 0.021287\n",
      "\n",
      "* * * Evaluating * * *\n",
      "Test set: Average loss: 0.0004, Accuracy: 3996/4000 (99.90%)\n",
      "\n",
      "\n",
      "* * * Training * * *\n",
      "Train Epoch: 3 [0/40000 (0%)]\tLoss: 0.001011\n",
      "Train Epoch: 3 [8000/40000 (20%)]\tLoss: 0.000582\n",
      "Train Epoch: 3 [16000/40000 (40%)]\tLoss: 0.000463\n",
      "Train Epoch: 3 [24000/40000 (60%)]\tLoss: 0.000446\n",
      "Train Epoch: 3 [32000/40000 (80%)]\tLoss: 0.000670\n",
      "\n",
      "* * * Evaluating * * *\n",
      "Test set: Average loss: 0.0005, Accuracy: 3990/4000 (99.75%)\n",
      "\n",
      "Final acc: 99.75%\n"
     ]
    }
   ],
   "source": [
    "acc = train(model, train_loader, test_loader, device, lr, nb_epochs, log_interval)\n",
    "print('Final acc: {:.2f}%'.format(acc))"
   ]
  },
  {
   "cell_type": "markdown",
   "metadata": {},
   "source": [
    "## 2. Atualize sua rede de classificação de vídeos usando uma Rede Recorrente Bidirecional (`nn.LSTM(bidirectional=True)`, `nn.GRU(bidirectional=True`))"
   ]
  },
  {
   "cell_type": "code",
   "execution_count": 144,
   "metadata": {},
   "outputs": [],
   "source": [
    "class BiRNN(nn.Module):\n",
    "    def __init__(self, rnn_units = 64):\n",
    "        super(BiRNN, self).__init__()\n",
    "        # Rede para processamento de cada frame\n",
    "        self.digitscnn = DigitsConvNet()\n",
    "        self.rnn_units = rnn_units\n",
    "        self.hidden_size=self.rnn_units\n",
    "        self.rnn = nn.LSTM(input_size=3136, hidden_size=self.rnn_units, bidirectional=True, batch_first=True)\n",
    "        self.fc = nn.Linear(self.rnn_units*2,2)\n",
    "\n",
    "    def forward(self, x):\n",
    "        h0 = torch.zeros(2, x.size(0), self.hidden_size).to(device) \n",
    "        c0 = torch.zeros(2, x.size(0), self.hidden_size).to(device)\n",
    "        batch, time_steps, channels, h,w = x.shape\n",
    "        x_flat = x.view(batch*time_steps, channels, h,w)\n",
    "        features = self.digitscnn(x_flat)\n",
    "        features = features.view(batch, time_steps, -1)\n",
    "        out, _ = self.rnn(features, (h0, c0))  # out: tensor of shape (batch_size, seq_length, hidden_size)\n",
    "        \n",
    "        # Decode the hidden state of the last time step\n",
    "        out = self.fc(out[:, -1, :])\n",
    "        return out"
   ]
  },
  {
   "cell_type": "code",
   "execution_count": 145,
   "metadata": {},
   "outputs": [
    {
     "name": "stdout",
     "output_type": "stream",
     "text": [
      "BiRNN(\n",
      "  (digitscnn): DigitsConvNet(\n",
      "    (conv_1): Conv2d(1, 32, kernel_size=(3, 3), stride=(1, 1), padding=(1, 1))\n",
      "    (conv_2): Conv2d(32, 64, kernel_size=(3, 3), stride=(1, 1), padding=(1, 1))\n",
      "    (fc): Linear(in_features=3136, out_features=10, bias=True)\n",
      "    (pool): MaxPool2d(kernel_size=2, stride=2, padding=0, dilation=1, ceil_mode=False)\n",
      "    (relu): ReLU(inplace)\n",
      "  )\n",
      "  (rnn): LSTM(3136, 64, batch_first=True, bidirectional=True)\n",
      "  (fc): Linear(in_features=128, out_features=2, bias=True)\n",
      ")\n",
      "torch.Size([5, 2])\n"
     ]
    }
   ],
   "source": [
    "model = BiRNN().to(device)\n",
    "print(model)\n",
    "\n",
    "pred = model(torch.zeros(5, 3, 1, 28, 28))\n",
    "print(pred.shape)"
   ]
  },
  {
   "cell_type": "code",
   "execution_count": 146,
   "metadata": {},
   "outputs": [
    {
     "name": "stdout",
     "output_type": "stream",
     "text": [
      "Passed\n"
     ]
    }
   ],
   "source": [
    "dummy_pred = check_input(model, device)"
   ]
  },
  {
   "cell_type": "code",
   "execution_count": 147,
   "metadata": {},
   "outputs": [
    {
     "name": "stdout",
     "output_type": "stream",
     "text": [
      "\n",
      "* * * Training * * *\n",
      "Train Epoch: 1 [0/40000 (0%)]\tLoss: 0.706670\n",
      "Train Epoch: 1 [8000/40000 (20%)]\tLoss: 0.242043\n",
      "Train Epoch: 1 [16000/40000 (40%)]\tLoss: 0.070172\n",
      "Train Epoch: 1 [24000/40000 (60%)]\tLoss: 0.037908\n",
      "Train Epoch: 1 [32000/40000 (80%)]\tLoss: 0.029855\n",
      "\n",
      "* * * Evaluating * * *\n",
      "Test set: Average loss: 0.0009, Accuracy: 3994/4000 (99.85%)\n",
      "\n",
      "\n",
      "* * * Training * * *\n",
      "Train Epoch: 2 [0/40000 (0%)]\tLoss: 0.003229\n",
      "Train Epoch: 2 [8000/40000 (20%)]\tLoss: 0.037118\n",
      "Train Epoch: 2 [16000/40000 (40%)]\tLoss: 0.004079\n",
      "Train Epoch: 2 [24000/40000 (60%)]\tLoss: 0.000539\n",
      "Train Epoch: 2 [32000/40000 (80%)]\tLoss: 0.001033\n",
      "\n",
      "* * * Evaluating * * *\n",
      "Test set: Average loss: 0.0006, Accuracy: 3988/4000 (99.70%)\n",
      "\n",
      "\n",
      "* * * Training * * *\n",
      "Train Epoch: 3 [0/40000 (0%)]\tLoss: 0.001763\n",
      "Train Epoch: 3 [8000/40000 (20%)]\tLoss: 0.003529\n",
      "Train Epoch: 3 [16000/40000 (40%)]\tLoss: 0.001724\n",
      "Train Epoch: 3 [24000/40000 (60%)]\tLoss: 0.000125\n",
      "Train Epoch: 3 [32000/40000 (80%)]\tLoss: 0.000303\n",
      "\n",
      "* * * Evaluating * * *\n",
      "Test set: Average loss: 0.0002, Accuracy: 3993/4000 (99.83%)\n",
      "\n",
      "Final acc: 99.83%\n"
     ]
    }
   ],
   "source": [
    "acc = train(model, train_loader, test_loader, device, lr, nb_epochs, log_interval)\n",
    "print('Final acc: {:.2f}%'.format(acc))"
   ]
  },
  {
   "cell_type": "markdown",
   "metadata": {},
   "source": [
    "## 3. Implemente uma rede neural para classificação de vídeos usando um *global average pooling* para processar a dimensão temporal\n",
    "\n",
    "**OBS: Treine esta rede por apenas 1 época!**\n",
    "\n",
    "Sua rede deve conter uma rede convolucional para processar cada *frame* do vídeo. O processamnto da dimensão temporal deverá ser feito através de um *global average pooling*. "
   ]
  },
  {
   "cell_type": "code",
   "execution_count": 174,
   "metadata": {},
   "outputs": [],
   "source": [
    "class GlobalPoolNet(nn.Module):\n",
    "    def __init__(self):\n",
    "        super(GlobalPoolNet, self).__init__()\n",
    "        # Rede para processamento de cada frame\n",
    "        self.digitscnn = DigitsConvNet()  \n",
    "        self.fc = nn.Linear(3136,2)\n",
    "    \n",
    "    def forward(self, x):\n",
    "        batch, time_steps, channels, h,w = x.shape\n",
    "        x_flat = x.view(batch*time_steps, channels, h,w)\n",
    "        features = self.digitscnn(x_flat)\n",
    "        features = features.view(batch, time_steps, -1)\n",
    "        #print(features.shape)\n",
    "        out = features.mean(1)\n",
    "        #print(out.shape)\n",
    "        \n",
    "        out = self.fc(out)\n",
    "        return out"
   ]
  },
  {
   "cell_type": "markdown",
   "metadata": {},
   "source": [
    "### 3.1 Verifique se a saída do seu modelo está correta"
   ]
  },
  {
   "cell_type": "code",
   "execution_count": 175,
   "metadata": {
    "scrolled": false
   },
   "outputs": [
    {
     "name": "stdout",
     "output_type": "stream",
     "text": [
      "GlobalPoolNet(\n",
      "  (digitscnn): DigitsConvNet(\n",
      "    (conv_1): Conv2d(1, 32, kernel_size=(3, 3), stride=(1, 1), padding=(1, 1))\n",
      "    (conv_2): Conv2d(32, 64, kernel_size=(3, 3), stride=(1, 1), padding=(1, 1))\n",
      "    (fc): Linear(in_features=3136, out_features=10, bias=True)\n",
      "    (pool): MaxPool2d(kernel_size=2, stride=2, padding=0, dilation=1, ceil_mode=False)\n",
      "    (relu): ReLU(inplace)\n",
      "  )\n",
      "  (fc): Linear(in_features=3136, out_features=2, bias=True)\n",
      ")\n"
     ]
    }
   ],
   "source": [
    "model = GlobalPoolNet().to(device)\n",
    "print(model)\n",
    "\n",
    "pred = model(torch.zeros(5, 3, 1, 28, 28).to(device))"
   ]
  },
  {
   "cell_type": "code",
   "execution_count": 176,
   "metadata": {},
   "outputs": [
    {
     "name": "stdout",
     "output_type": "stream",
     "text": [
      "Passed\n"
     ]
    }
   ],
   "source": [
    "dummy_pred = check_input(model, device)"
   ]
  },
  {
   "cell_type": "markdown",
   "metadata": {},
   "source": [
    "### 3.2 Treine seu modelo por uma (1) época"
   ]
  },
  {
   "cell_type": "code",
   "execution_count": 177,
   "metadata": {},
   "outputs": [
    {
     "name": "stdout",
     "output_type": "stream",
     "text": [
      "\n",
      "* * * Training * * *\n",
      "Train Epoch: 1 [0/40000 (0%)]\tLoss: 0.700120\n",
      "Train Epoch: 1 [8000/40000 (20%)]\tLoss: 0.695184\n",
      "Train Epoch: 1 [16000/40000 (40%)]\tLoss: 0.692919\n",
      "Train Epoch: 1 [24000/40000 (60%)]\tLoss: 0.694066\n",
      "Train Epoch: 1 [32000/40000 (80%)]\tLoss: 0.690363\n",
      "\n",
      "* * * Evaluating * * *\n",
      "Test set: Average loss: 0.0433, Accuracy: 1985/4000 (49.62%)\n",
      "\n",
      "Final acc: 49.62%\n"
     ]
    }
   ],
   "source": [
    "nb_epochs = 1\n",
    "acc = train(model, train_loader, test_loader, device, lr, nb_epochs, log_interval)\n",
    "print('Final acc: {:.2f}%'.format(acc))"
   ]
  },
  {
   "cell_type": "markdown",
   "metadata": {},
   "source": [
    "## 4. Implemente o processamento da dimensão temporal utilizando uma camada de convolução \n"
   ]
  },
  {
   "cell_type": "code",
   "execution_count": null,
   "metadata": {},
   "outputs": [],
   "source": [
    "class VideoConvNet(nn.Module):\n",
    "    def __init__():\n",
    "        super(VideoConvNet, self).__init__()            \n",
    "\n",
    "    def forward(self, x):        \n",
    "        return out"
   ]
  },
  {
   "cell_type": "code",
   "execution_count": null,
   "metadata": {},
   "outputs": [],
   "source": [
    "model = VideoLSTM().to(device)\n",
    "print(model)\n",
    "\n",
    "pred = model(torch.zeros(5, 3, 1, 28, 28))\n",
    "print(pred.shape)"
   ]
  },
  {
   "cell_type": "code",
   "execution_count": null,
   "metadata": {},
   "outputs": [],
   "source": [
    "dummy_pred = check_input(model, device)"
   ]
  },
  {
   "cell_type": "code",
   "execution_count": null,
   "metadata": {},
   "outputs": [],
   "source": [
    "acc = train(model, train_loader, test_loader, device, lr, nb_epochs, log_interval)\n",
    "print('Final acc: {:.2f}%'.format(acc))"
   ]
  },
  {
   "cell_type": "markdown",
   "metadata": {},
   "source": [
    "## 5. Implemente uma rede de classificação de vídeos utilizando convoluções 3D (`nn.Conv3d()`)"
   ]
  },
  {
   "cell_type": "code",
   "execution_count": null,
   "metadata": {},
   "outputs": [],
   "source": [
    "class Video3DConvNet(nn.Module):\n",
    "    def __init__():\n",
    "        super(Video3DConvNet, self).__init__()            \n",
    "\n",
    "    def forward(self, x):        \n",
    "        return out"
   ]
  },
  {
   "cell_type": "code",
   "execution_count": null,
   "metadata": {},
   "outputs": [],
   "source": [
    "model = Video3DConvNet().to(device)\n",
    "print(model)\n",
    "\n",
    "pred = model(torch.zeros(5, 3, 1, 28, 28))\n",
    "print(pred.shape)"
   ]
  },
  {
   "cell_type": "code",
   "execution_count": null,
   "metadata": {},
   "outputs": [],
   "source": [
    "dummy_pred = check_input(model, device)"
   ]
  },
  {
   "cell_type": "code",
   "execution_count": null,
   "metadata": {},
   "outputs": [],
   "source": [
    "acc = train(model, train_loader, test_loader, device, lr, nb_epochs, log_interval)\n",
    "print('Final acc: {:.2f}%'.format(acc))"
   ]
  }
 ],
 "metadata": {
  "kernelspec": {
   "display_name": "Python 3",
   "language": "python",
   "name": "python3"
  },
  "language_info": {
   "codemirror_mode": {
    "name": "ipython",
    "version": 3
   },
   "file_extension": ".py",
   "mimetype": "text/x-python",
   "name": "python",
   "nbconvert_exporter": "python",
   "pygments_lexer": "ipython3",
   "version": "3.5.5"
  }
 },
 "nbformat": 4,
 "nbformat_minor": 2
}
